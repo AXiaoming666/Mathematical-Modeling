{
 "cells": [
  {
   "cell_type": "code",
   "execution_count": null,
   "metadata": {},
   "outputs": [],
   "source": [
    "# 在Jupyter Notebook中启用交互式绘图\n",
    "%matplotlib notebook\n",
    "import matplotlib.pyplot as plt\n",
    "from mpl_toolkits.mplot3d import Axes3D\n",
    "import numpy as np\n",
    "import pandas as pd\n",
    "\n",
    "# 读取数据（确保数据文件路径正确）\n",
    "data = pd.read_excel('path_to_your_excel_file.xlsx', header=None)\n",
    "\n",
    "# 生成X和Y的网格\n",
    "X = np.arange(0, 4.02, 0.02)\n",
    "Y = np.arange(0, 5.02, 0.02)\n",
    "X, Y = np.meshgrid(X, Y)\n",
    "\n",
    "# 提取Z数据，确保索引正确\n",
    "Z = data.values[2:253, 2:203]\n",
    "Z_normalized = (Z - Z.min()) / (Z.max() - Z.min())\n",
    "\n",
    "# 创建3D散点图\n",
    "fig = plt.figure()\n",
    "ax = fig.add_subplot(111, projection='3d')\n",
    "\n",
    "# 绘制散点图\n",
    "sc = ax.scatter(X.flatten(), Y.flatten(), Z.flatten(), c=Z_normalized.flatten(), cmap='viridis', marker='o')\n",
    "\n",
    "# 设置坐标轴标签\n",
    "ax.set_xlabel('X')\n",
    "ax.set_ylabel('Y')\n",
    "ax.set_zlabel('Z')\n",
    "\n",
    "# 显示颜色条\n",
    "color_bar = fig.colorbar(sc, ax=ax, shrink=0.5, aspect=5)\n",
    "\n",
    "# 显示图形\n",
    "plt.show()\n",
    "\n",
    "# 在此之后，你可以使用鼠标拖动图形来旋转视角\n"
   ]
  }
 ],
 "metadata": {
  "language_info": {
   "name": "python"
  }
 },
 "nbformat": 4,
 "nbformat_minor": 2
}
